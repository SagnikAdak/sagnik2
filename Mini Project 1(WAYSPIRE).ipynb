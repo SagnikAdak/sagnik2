{
  "nbformat": 4,
  "nbformat_minor": 0,
  "metadata": {
    "colab": {
      "provenance": [],
      "authorship_tag": "ABX9TyNofYrLqcNlX4gOSLmNTPKN",
      "include_colab_link": true
    },
    "kernelspec": {
      "name": "python3",
      "display_name": "Python 3"
    },
    "language_info": {
      "name": "python"
    }
  },
  "cells": [
    {
      "cell_type": "markdown",
      "metadata": {
        "id": "view-in-github",
        "colab_type": "text"
      },
      "source": [
        "<a href=\"https://colab.research.google.com/github/SagnikAdak/sagnik2/blob/main/Mini%20Project%201(WAYSPIRE).ipynb\" target=\"_parent\"><img src=\"https://colab.research.google.com/assets/colab-badge.svg\" alt=\"Open In Colab\"/></a>"
      ]
    },
    {
      "cell_type": "markdown",
      "source": [
        "**Mini Project 1(WAYSPIRE) : Data Analysis with Python and Pandas**\n",
        "\n",
        "```\n",
        "Objective: Conduct a basic data analysis using Python, Pandas, and visualization techniques.\n",
        "Requirements:\n",
        "• Python Basics:\n",
        "o Utilize variables, data types, functions, and loops.\n",
        "• Data Handling:\n",
        "o Use Pandas for data manipulation and analysis.\n",
        "• Visualization:\n",
        "o Implement basic data visualization using Matplotlib.\n",
        "• Statistics:\n",
        "o Apply basic statistical methods to the data.\n",
        "\n",
        "\n",
        "```\n",
        "\n"
      ],
      "metadata": {
        "id": "lstCgJdChd9Y"
      }
    },
    {
      "cell_type": "code",
      "execution_count": 1,
      "metadata": {
        "id": "8tncHE4Jeo_J"
      },
      "outputs": [],
      "source": [
        "import pandas as pd\n",
        "import matplotlib.pyplot as plt"
      ]
    },
    {
      "cell_type": "code",
      "source": [
        "df=pd.read_csv(\"/gender_submission.csv\")"
      ],
      "metadata": {
        "id": "EccLe-AAjNZO"
      },
      "execution_count": 6,
      "outputs": []
    },
    {
      "cell_type": "code",
      "source": [
        "# Display the first few rows\n",
        "print(df.head(10))"
      ],
      "metadata": {
        "colab": {
          "base_uri": "https://localhost:8080/"
        },
        "id": "bc7IN6lFlFH4",
        "outputId": "70a02131-f5e7-4157-dfad-ecee80a80a29"
      },
      "execution_count": 7,
      "outputs": [
        {
          "output_type": "stream",
          "name": "stdout",
          "text": [
            "   PassengerId  Survived\n",
            "0          892         0\n",
            "1          893         1\n",
            "2          894         0\n",
            "3          895         0\n",
            "4          896         1\n",
            "5          897         0\n",
            "6          898         1\n",
            "7          899         0\n",
            "8          900         1\n",
            "9          901         0\n"
          ]
        }
      ]
    },
    {
      "cell_type": "code",
      "source": [
        "# Basic information about the dataset\n",
        "print(df.info())"
      ],
      "metadata": {
        "colab": {
          "base_uri": "https://localhost:8080/"
        },
        "id": "sk803pgYlazP",
        "outputId": "4b314576-982f-430d-c00a-7b7039c9a169"
      },
      "execution_count": 8,
      "outputs": [
        {
          "output_type": "stream",
          "name": "stdout",
          "text": [
            "<class 'pandas.core.frame.DataFrame'>\n",
            "RangeIndex: 418 entries, 0 to 417\n",
            "Data columns (total 2 columns):\n",
            " #   Column       Non-Null Count  Dtype\n",
            "---  ------       --------------  -----\n",
            " 0   PassengerId  418 non-null    int64\n",
            " 1   Survived     418 non-null    int64\n",
            "dtypes: int64(2)\n",
            "memory usage: 6.7 KB\n",
            "None\n"
          ]
        }
      ]
    },
    {
      "cell_type": "code",
      "source": [
        "# Descriptive statistics\n",
        "print(df.describe())"
      ],
      "metadata": {
        "colab": {
          "base_uri": "https://localhost:8080/"
        },
        "id": "elobzq8slaVo",
        "outputId": "1cad0a34-c378-4497-db4e-ccf3d71063f5"
      },
      "execution_count": 9,
      "outputs": [
        {
          "output_type": "stream",
          "name": "stdout",
          "text": [
            "       PassengerId    Survived\n",
            "count   418.000000  418.000000\n",
            "mean   1100.500000    0.363636\n",
            "std     120.810458    0.481622\n",
            "min     892.000000    0.000000\n",
            "25%     996.250000    0.000000\n",
            "50%    1100.500000    0.000000\n",
            "75%    1204.750000    1.000000\n",
            "max    1309.000000    1.000000\n"
          ]
        }
      ]
    },
    {
      "cell_type": "code",
      "source": [
        "# Check for missing values\n",
        "print(df.isnull().sum())"
      ],
      "metadata": {
        "colab": {
          "base_uri": "https://localhost:8080/"
        },
        "id": "0UFx1r1-laT9",
        "outputId": "5b40c289-dea5-4e99-82e1-f6b639e3b689"
      },
      "execution_count": 10,
      "outputs": [
        {
          "output_type": "stream",
          "name": "stdout",
          "text": [
            "PassengerId    0\n",
            "Survived       0\n",
            "dtype: int64\n"
          ]
        }
      ]
    },
    {
      "cell_type": "code",
      "source": [
        "# Analyze survival rates\n",
        "survival_rate = df['Survived'].mean()\n",
        "print(f'Survival Rate: {survival_rate:.2f}')"
      ],
      "metadata": {
        "colab": {
          "base_uri": "https://localhost:8080/"
        },
        "id": "iZrUZ5vDlu-O",
        "outputId": "66f38dda-9e7a-412e-d07b-99d8ed08f9d0"
      },
      "execution_count": 11,
      "outputs": [
        {
          "output_type": "stream",
          "name": "stdout",
          "text": [
            "Survival Rate: 0.36\n"
          ]
        }
      ]
    },
    {
      "cell_type": "code",
      "source": [
        "# Group by class and analyze survival rates\n",
        "class_survival = df.groupby('PassengerId')['Survived'].mean()\n",
        "print(class_survival)"
      ],
      "metadata": {
        "colab": {
          "base_uri": "https://localhost:8080/"
        },
        "id": "TswSrwKXlvhi",
        "outputId": "7e2175c4-384d-4257-f1b7-1a07bada7b30"
      },
      "execution_count": 13,
      "outputs": [
        {
          "output_type": "stream",
          "name": "stdout",
          "text": [
            "PassengerId\n",
            "892     0.0\n",
            "893     1.0\n",
            "894     0.0\n",
            "895     0.0\n",
            "896     1.0\n",
            "       ... \n",
            "1305    0.0\n",
            "1306    1.0\n",
            "1307    0.0\n",
            "1308    0.0\n",
            "1309    0.0\n",
            "Name: Survived, Length: 418, dtype: float64\n"
          ]
        }
      ]
    },
    {
      "cell_type": "code",
      "source": [
        "# Bar plot for survival rates by class\n",
        "class_survival.plot(kind='bar', color='red')\n",
        "plt.title('Survival Rate by Passenger Class')\n",
        "plt.xlabel('Passenger Class')\n",
        "plt.ylabel('Survival Rate')\n",
        "plt.xticks(rotation=0)\n",
        "plt.show()"
      ],
      "metadata": {
        "colab": {
          "base_uri": "https://localhost:8080/",
          "height": 472
        },
        "id": "7sPokT6dlvbI",
        "outputId": "95da01ac-5ba3-4774-e2ae-0f8c20a80d66"
      },
      "execution_count": 15,
      "outputs": [
        {
          "output_type": "display_data",
          "data": {
            "text/plain": [
              "<Figure size 640x480 with 1 Axes>"
            ],
            "image/png": "[encoded data removed]"
          },
          "metadata": {}
        }
      ]
    },
    {
      "cell_type": "code",
      "source": [
        "# Correlation matrix\n",
        "correlation = df.corr()\n",
        "print(correlation)"
      ],
      "metadata": {
        "colab": {
          "base_uri": "https://localhost:8080/"
        },
        "id": "OwNwshpilu41",
        "outputId": "ab68f650-e553-40b8-d12d-29f2701625ed"
      },
      "execution_count": 16,
      "outputs": [
        {
          "output_type": "stream",
          "name": "stdout",
          "text": [
            "             PassengerId  Survived\n",
            "PassengerId     1.000000 -0.023245\n",
            "Survived       -0.023245  1.000000\n"
          ]
        }
      ]
    },
    {
      "cell_type": "code",
      "source": [
        "# Visualize correlation\n",
        "plt.figure(figsize=(10, 6))\n",
        "plt.imshow(correlation, cmap='coolwarm', interpolation='none')\n",
        "plt.colorbar()\n",
        "plt.xticks(range(len(correlation.columns)), correlation.columns, rotation=90)\n",
        "plt.yticks(range(len(correlation.columns)), correlation.columns)\n",
        "plt.title('Correlation Matrix')\n",
        "plt.show()"
      ],
      "metadata": {
        "colab": {
          "base_uri": "https://localhost:8080/",
          "height": 614
        },
        "id": "_ggmzOhfluy_",
        "outputId": "498ada3a-5b4e-44b4-d116-3bc78e6c5a44"
      },
      "execution_count": 17,
      "outputs": [
        {
          "output_type": "display_data",
          "data": {
            "text/plain": [
              "<Figure size 1000x600 with 2 Axes>"
            ],
            "image/png": "[encoded data removed]"
          },
          "metadata": {}
        }
      ]
    },
    {
      "cell_type": "code",
      "source": [],
      "metadata": {
        "id": "IXDJbr9olurf"
      },
      "execution_count": null,
      "outputs": []
    }
  ]
}